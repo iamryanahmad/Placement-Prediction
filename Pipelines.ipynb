{
 "cells": [
  {
   "cell_type": "code",
   "execution_count": 1,
   "id": "d9071faf",
   "metadata": {},
   "outputs": [],
   "source": [
    "import pandas as pd\n",
    "import numpy as np \n",
    "import matplotlib.pyplot as plt \n",
    "import seaborn as sns "
   ]
  },
  {
   "cell_type": "code",
   "execution_count": 2,
   "id": "91818141",
   "metadata": {},
   "outputs": [
    {
     "data": {
      "text/html": [
       "<div>\n",
       "<style scoped>\n",
       "    .dataframe tbody tr th:only-of-type {\n",
       "        vertical-align: middle;\n",
       "    }\n",
       "\n",
       "    .dataframe tbody tr th {\n",
       "        vertical-align: top;\n",
       "    }\n",
       "\n",
       "    .dataframe thead th {\n",
       "        text-align: right;\n",
       "    }\n",
       "</style>\n",
       "<table border=\"1\" class=\"dataframe\">\n",
       "  <thead>\n",
       "    <tr style=\"text-align: right;\">\n",
       "      <th></th>\n",
       "      <th>gender</th>\n",
       "      <th>ssc_percentage</th>\n",
       "      <th>ssc_board</th>\n",
       "      <th>hsc_percentage</th>\n",
       "      <th>hsc_board</th>\n",
       "      <th>hsc_subject</th>\n",
       "      <th>degree_percentage</th>\n",
       "      <th>undergrad_degree</th>\n",
       "      <th>work_experience</th>\n",
       "      <th>emp_test_percentage</th>\n",
       "      <th>specialisation</th>\n",
       "      <th>mba_percent</th>\n",
       "      <th>status</th>\n",
       "    </tr>\n",
       "  </thead>\n",
       "  <tbody>\n",
       "    <tr>\n",
       "      <th>0</th>\n",
       "      <td>M</td>\n",
       "      <td>67.00</td>\n",
       "      <td>Others</td>\n",
       "      <td>91.00</td>\n",
       "      <td>Others</td>\n",
       "      <td>Commerce</td>\n",
       "      <td>58.00</td>\n",
       "      <td>Sci&amp;Tech</td>\n",
       "      <td>No</td>\n",
       "      <td>55.00</td>\n",
       "      <td>Mkt&amp;HR</td>\n",
       "      <td>58.80</td>\n",
       "      <td>Placed</td>\n",
       "    </tr>\n",
       "    <tr>\n",
       "      <th>1</th>\n",
       "      <td>M</td>\n",
       "      <td>79.33</td>\n",
       "      <td>Central</td>\n",
       "      <td>78.33</td>\n",
       "      <td>Others</td>\n",
       "      <td>Science</td>\n",
       "      <td>77.48</td>\n",
       "      <td>Sci&amp;Tech</td>\n",
       "      <td>Yes</td>\n",
       "      <td>86.50</td>\n",
       "      <td>Mkt&amp;Fin</td>\n",
       "      <td>66.28</td>\n",
       "      <td>Placed</td>\n",
       "    </tr>\n",
       "    <tr>\n",
       "      <th>2</th>\n",
       "      <td>M</td>\n",
       "      <td>65.00</td>\n",
       "      <td>Central</td>\n",
       "      <td>68.00</td>\n",
       "      <td>Central</td>\n",
       "      <td>Arts</td>\n",
       "      <td>64.00</td>\n",
       "      <td>Comm&amp;Mgmt</td>\n",
       "      <td>No</td>\n",
       "      <td>75.00</td>\n",
       "      <td>Mkt&amp;Fin</td>\n",
       "      <td>57.80</td>\n",
       "      <td>Placed</td>\n",
       "    </tr>\n",
       "    <tr>\n",
       "      <th>3</th>\n",
       "      <td>M</td>\n",
       "      <td>56.00</td>\n",
       "      <td>Central</td>\n",
       "      <td>52.00</td>\n",
       "      <td>Central</td>\n",
       "      <td>Science</td>\n",
       "      <td>52.00</td>\n",
       "      <td>Sci&amp;Tech</td>\n",
       "      <td>No</td>\n",
       "      <td>66.00</td>\n",
       "      <td>Mkt&amp;HR</td>\n",
       "      <td>59.43</td>\n",
       "      <td>Not Placed</td>\n",
       "    </tr>\n",
       "    <tr>\n",
       "      <th>4</th>\n",
       "      <td>M</td>\n",
       "      <td>85.80</td>\n",
       "      <td>Central</td>\n",
       "      <td>73.60</td>\n",
       "      <td>Central</td>\n",
       "      <td>Commerce</td>\n",
       "      <td>73.30</td>\n",
       "      <td>Comm&amp;Mgmt</td>\n",
       "      <td>No</td>\n",
       "      <td>96.80</td>\n",
       "      <td>Mkt&amp;Fin</td>\n",
       "      <td>55.50</td>\n",
       "      <td>Placed</td>\n",
       "    </tr>\n",
       "    <tr>\n",
       "      <th>5</th>\n",
       "      <td>M</td>\n",
       "      <td>55.00</td>\n",
       "      <td>Others</td>\n",
       "      <td>49.80</td>\n",
       "      <td>Others</td>\n",
       "      <td>Science</td>\n",
       "      <td>67.25</td>\n",
       "      <td>Sci&amp;Tech</td>\n",
       "      <td>Yes</td>\n",
       "      <td>55.00</td>\n",
       "      <td>Mkt&amp;Fin</td>\n",
       "      <td>51.58</td>\n",
       "      <td>Not Placed</td>\n",
       "    </tr>\n",
       "    <tr>\n",
       "      <th>6</th>\n",
       "      <td>F</td>\n",
       "      <td>46.00</td>\n",
       "      <td>Others</td>\n",
       "      <td>49.20</td>\n",
       "      <td>Others</td>\n",
       "      <td>Commerce</td>\n",
       "      <td>79.00</td>\n",
       "      <td>Comm&amp;Mgmt</td>\n",
       "      <td>No</td>\n",
       "      <td>74.28</td>\n",
       "      <td>Mkt&amp;Fin</td>\n",
       "      <td>53.29</td>\n",
       "      <td>Not Placed</td>\n",
       "    </tr>\n",
       "    <tr>\n",
       "      <th>7</th>\n",
       "      <td>M</td>\n",
       "      <td>82.00</td>\n",
       "      <td>Central</td>\n",
       "      <td>64.00</td>\n",
       "      <td>Central</td>\n",
       "      <td>Science</td>\n",
       "      <td>66.00</td>\n",
       "      <td>Sci&amp;Tech</td>\n",
       "      <td>Yes</td>\n",
       "      <td>67.00</td>\n",
       "      <td>Mkt&amp;Fin</td>\n",
       "      <td>62.14</td>\n",
       "      <td>Placed</td>\n",
       "    </tr>\n",
       "    <tr>\n",
       "      <th>8</th>\n",
       "      <td>M</td>\n",
       "      <td>73.00</td>\n",
       "      <td>Central</td>\n",
       "      <td>79.00</td>\n",
       "      <td>Central</td>\n",
       "      <td>Commerce</td>\n",
       "      <td>72.00</td>\n",
       "      <td>Comm&amp;Mgmt</td>\n",
       "      <td>No</td>\n",
       "      <td>91.34</td>\n",
       "      <td>Mkt&amp;Fin</td>\n",
       "      <td>61.29</td>\n",
       "      <td>Placed</td>\n",
       "    </tr>\n",
       "    <tr>\n",
       "      <th>9</th>\n",
       "      <td>M</td>\n",
       "      <td>58.00</td>\n",
       "      <td>Central</td>\n",
       "      <td>70.00</td>\n",
       "      <td>Central</td>\n",
       "      <td>Commerce</td>\n",
       "      <td>61.00</td>\n",
       "      <td>Comm&amp;Mgmt</td>\n",
       "      <td>No</td>\n",
       "      <td>54.00</td>\n",
       "      <td>Mkt&amp;Fin</td>\n",
       "      <td>52.21</td>\n",
       "      <td>Not Placed</td>\n",
       "    </tr>\n",
       "    <tr>\n",
       "      <th>10</th>\n",
       "      <td>M</td>\n",
       "      <td>58.00</td>\n",
       "      <td>Central</td>\n",
       "      <td>61.00</td>\n",
       "      <td>Central</td>\n",
       "      <td>Commerce</td>\n",
       "      <td>60.00</td>\n",
       "      <td>Comm&amp;Mgmt</td>\n",
       "      <td>Yes</td>\n",
       "      <td>62.00</td>\n",
       "      <td>Mkt&amp;HR</td>\n",
       "      <td>60.85</td>\n",
       "      <td>Placed</td>\n",
       "    </tr>\n",
       "    <tr>\n",
       "      <th>11</th>\n",
       "      <td>M</td>\n",
       "      <td>69.60</td>\n",
       "      <td>Central</td>\n",
       "      <td>68.40</td>\n",
       "      <td>Central</td>\n",
       "      <td>Commerce</td>\n",
       "      <td>78.30</td>\n",
       "      <td>Comm&amp;Mgmt</td>\n",
       "      <td>Yes</td>\n",
       "      <td>60.00</td>\n",
       "      <td>Mkt&amp;Fin</td>\n",
       "      <td>63.70</td>\n",
       "      <td>Placed</td>\n",
       "    </tr>\n",
       "    <tr>\n",
       "      <th>12</th>\n",
       "      <td>F</td>\n",
       "      <td>47.00</td>\n",
       "      <td>Central</td>\n",
       "      <td>55.00</td>\n",
       "      <td>Others</td>\n",
       "      <td>Science</td>\n",
       "      <td>65.00</td>\n",
       "      <td>Comm&amp;Mgmt</td>\n",
       "      <td>No</td>\n",
       "      <td>62.00</td>\n",
       "      <td>Mkt&amp;HR</td>\n",
       "      <td>65.04</td>\n",
       "      <td>Not Placed</td>\n",
       "    </tr>\n",
       "    <tr>\n",
       "      <th>13</th>\n",
       "      <td>F</td>\n",
       "      <td>77.00</td>\n",
       "      <td>Central</td>\n",
       "      <td>87.00</td>\n",
       "      <td>Central</td>\n",
       "      <td>Commerce</td>\n",
       "      <td>59.00</td>\n",
       "      <td>Comm&amp;Mgmt</td>\n",
       "      <td>No</td>\n",
       "      <td>68.00</td>\n",
       "      <td>Mkt&amp;Fin</td>\n",
       "      <td>68.63</td>\n",
       "      <td>Placed</td>\n",
       "    </tr>\n",
       "    <tr>\n",
       "      <th>14</th>\n",
       "      <td>M</td>\n",
       "      <td>62.00</td>\n",
       "      <td>Central</td>\n",
       "      <td>47.00</td>\n",
       "      <td>Central</td>\n",
       "      <td>Commerce</td>\n",
       "      <td>50.00</td>\n",
       "      <td>Comm&amp;Mgmt</td>\n",
       "      <td>No</td>\n",
       "      <td>76.00</td>\n",
       "      <td>Mkt&amp;HR</td>\n",
       "      <td>54.96</td>\n",
       "      <td>Not Placed</td>\n",
       "    </tr>\n",
       "    <tr>\n",
       "      <th>15</th>\n",
       "      <td>F</td>\n",
       "      <td>65.00</td>\n",
       "      <td>Central</td>\n",
       "      <td>75.00</td>\n",
       "      <td>Central</td>\n",
       "      <td>Commerce</td>\n",
       "      <td>69.00</td>\n",
       "      <td>Comm&amp;Mgmt</td>\n",
       "      <td>Yes</td>\n",
       "      <td>72.00</td>\n",
       "      <td>Mkt&amp;Fin</td>\n",
       "      <td>64.66</td>\n",
       "      <td>Placed</td>\n",
       "    </tr>\n",
       "    <tr>\n",
       "      <th>16</th>\n",
       "      <td>M</td>\n",
       "      <td>63.00</td>\n",
       "      <td>Central</td>\n",
       "      <td>66.20</td>\n",
       "      <td>Central</td>\n",
       "      <td>Commerce</td>\n",
       "      <td>65.60</td>\n",
       "      <td>Comm&amp;Mgmt</td>\n",
       "      <td>Yes</td>\n",
       "      <td>60.00</td>\n",
       "      <td>Mkt&amp;Fin</td>\n",
       "      <td>62.54</td>\n",
       "      <td>Placed</td>\n",
       "    </tr>\n",
       "    <tr>\n",
       "      <th>17</th>\n",
       "      <td>F</td>\n",
       "      <td>55.00</td>\n",
       "      <td>Central</td>\n",
       "      <td>67.00</td>\n",
       "      <td>Central</td>\n",
       "      <td>Commerce</td>\n",
       "      <td>64.00</td>\n",
       "      <td>Comm&amp;Mgmt</td>\n",
       "      <td>No</td>\n",
       "      <td>60.00</td>\n",
       "      <td>Mkt&amp;Fin</td>\n",
       "      <td>67.28</td>\n",
       "      <td>Not Placed</td>\n",
       "    </tr>\n",
       "    <tr>\n",
       "      <th>18</th>\n",
       "      <td>F</td>\n",
       "      <td>63.00</td>\n",
       "      <td>Central</td>\n",
       "      <td>66.00</td>\n",
       "      <td>Central</td>\n",
       "      <td>Commerce</td>\n",
       "      <td>64.00</td>\n",
       "      <td>Comm&amp;Mgmt</td>\n",
       "      <td>No</td>\n",
       "      <td>68.00</td>\n",
       "      <td>Mkt&amp;HR</td>\n",
       "      <td>64.08</td>\n",
       "      <td>Not Placed</td>\n",
       "    </tr>\n",
       "    <tr>\n",
       "      <th>19</th>\n",
       "      <td>M</td>\n",
       "      <td>60.00</td>\n",
       "      <td>Others</td>\n",
       "      <td>67.00</td>\n",
       "      <td>Others</td>\n",
       "      <td>Arts</td>\n",
       "      <td>70.00</td>\n",
       "      <td>Comm&amp;Mgmt</td>\n",
       "      <td>Yes</td>\n",
       "      <td>50.48</td>\n",
       "      <td>Mkt&amp;Fin</td>\n",
       "      <td>77.89</td>\n",
       "      <td>Placed</td>\n",
       "    </tr>\n",
       "  </tbody>\n",
       "</table>\n",
       "</div>"
      ],
      "text/plain": [
       "   gender  ssc_percentage ssc_board  hsc_percentage hsc_board hsc_subject  \\\n",
       "0       M           67.00    Others           91.00    Others    Commerce   \n",
       "1       M           79.33   Central           78.33    Others     Science   \n",
       "2       M           65.00   Central           68.00   Central        Arts   \n",
       "3       M           56.00   Central           52.00   Central     Science   \n",
       "4       M           85.80   Central           73.60   Central    Commerce   \n",
       "5       M           55.00    Others           49.80    Others     Science   \n",
       "6       F           46.00    Others           49.20    Others    Commerce   \n",
       "7       M           82.00   Central           64.00   Central     Science   \n",
       "8       M           73.00   Central           79.00   Central    Commerce   \n",
       "9       M           58.00   Central           70.00   Central    Commerce   \n",
       "10      M           58.00   Central           61.00   Central    Commerce   \n",
       "11      M           69.60   Central           68.40   Central    Commerce   \n",
       "12      F           47.00   Central           55.00    Others     Science   \n",
       "13      F           77.00   Central           87.00   Central    Commerce   \n",
       "14      M           62.00   Central           47.00   Central    Commerce   \n",
       "15      F           65.00   Central           75.00   Central    Commerce   \n",
       "16      M           63.00   Central           66.20   Central    Commerce   \n",
       "17      F           55.00   Central           67.00   Central    Commerce   \n",
       "18      F           63.00   Central           66.00   Central    Commerce   \n",
       "19      M           60.00    Others           67.00    Others        Arts   \n",
       "\n",
       "    degree_percentage undergrad_degree work_experience  emp_test_percentage  \\\n",
       "0               58.00         Sci&Tech              No                55.00   \n",
       "1               77.48         Sci&Tech             Yes                86.50   \n",
       "2               64.00        Comm&Mgmt              No                75.00   \n",
       "3               52.00         Sci&Tech              No                66.00   \n",
       "4               73.30        Comm&Mgmt              No                96.80   \n",
       "5               67.25         Sci&Tech             Yes                55.00   \n",
       "6               79.00        Comm&Mgmt              No                74.28   \n",
       "7               66.00         Sci&Tech             Yes                67.00   \n",
       "8               72.00        Comm&Mgmt              No                91.34   \n",
       "9               61.00        Comm&Mgmt              No                54.00   \n",
       "10              60.00        Comm&Mgmt             Yes                62.00   \n",
       "11              78.30        Comm&Mgmt             Yes                60.00   \n",
       "12              65.00        Comm&Mgmt              No                62.00   \n",
       "13              59.00        Comm&Mgmt              No                68.00   \n",
       "14              50.00        Comm&Mgmt              No                76.00   \n",
       "15              69.00        Comm&Mgmt             Yes                72.00   \n",
       "16              65.60        Comm&Mgmt             Yes                60.00   \n",
       "17              64.00        Comm&Mgmt              No                60.00   \n",
       "18              64.00        Comm&Mgmt              No                68.00   \n",
       "19              70.00        Comm&Mgmt             Yes                50.48   \n",
       "\n",
       "   specialisation  mba_percent      status  \n",
       "0          Mkt&HR        58.80      Placed  \n",
       "1         Mkt&Fin        66.28      Placed  \n",
       "2         Mkt&Fin        57.80      Placed  \n",
       "3          Mkt&HR        59.43  Not Placed  \n",
       "4         Mkt&Fin        55.50      Placed  \n",
       "5         Mkt&Fin        51.58  Not Placed  \n",
       "6         Mkt&Fin        53.29  Not Placed  \n",
       "7         Mkt&Fin        62.14      Placed  \n",
       "8         Mkt&Fin        61.29      Placed  \n",
       "9         Mkt&Fin        52.21  Not Placed  \n",
       "10         Mkt&HR        60.85      Placed  \n",
       "11        Mkt&Fin        63.70      Placed  \n",
       "12         Mkt&HR        65.04  Not Placed  \n",
       "13        Mkt&Fin        68.63      Placed  \n",
       "14         Mkt&HR        54.96  Not Placed  \n",
       "15        Mkt&Fin        64.66      Placed  \n",
       "16        Mkt&Fin        62.54      Placed  \n",
       "17        Mkt&Fin        67.28  Not Placed  \n",
       "18         Mkt&HR        64.08  Not Placed  \n",
       "19        Mkt&Fin        77.89      Placed  "
      ]
     },
     "execution_count": 2,
     "metadata": {},
     "output_type": "execute_result"
    }
   ],
   "source": [
    "df = pd.read_csv('Job_Placement_Data.csv')\n",
    "df.head(20)"
   ]
  },
  {
   "cell_type": "code",
   "execution_count": 4,
   "id": "881735c7",
   "metadata": {},
   "outputs": [
    {
     "data": {
      "text/plain": [
       "(215, 13)"
      ]
     },
     "execution_count": 4,
     "metadata": {},
     "output_type": "execute_result"
    }
   ],
   "source": [
    "df.shape"
   ]
  },
  {
   "cell_type": "code",
   "execution_count": 7,
   "id": "436eb7c5",
   "metadata": {},
   "outputs": [
    {
     "data": {
      "text/plain": [
       "gender                 0\n",
       "ssc_percentage         0\n",
       "ssc_board              0\n",
       "hsc_percentage         0\n",
       "hsc_board              0\n",
       "hsc_subject            0\n",
       "degree_percentage      0\n",
       "undergrad_degree       0\n",
       "work_experience        0\n",
       "emp_test_percentage    0\n",
       "specialisation         0\n",
       "mba_percent            0\n",
       "status                 0\n",
       "dtype: int64"
      ]
     },
     "execution_count": 7,
     "metadata": {},
     "output_type": "execute_result"
    }
   ],
   "source": [
    "df.isnull().sum()"
   ]
  },
  {
   "cell_type": "code",
   "execution_count": 8,
   "id": "dc0bfc0e",
   "metadata": {},
   "outputs": [
    {
     "name": "stdout",
     "output_type": "stream",
     "text": [
      "<class 'pandas.core.frame.DataFrame'>\n",
      "RangeIndex: 215 entries, 0 to 214\n",
      "Data columns (total 13 columns):\n",
      " #   Column               Non-Null Count  Dtype  \n",
      "---  ------               --------------  -----  \n",
      " 0   gender               215 non-null    object \n",
      " 1   ssc_percentage       215 non-null    float64\n",
      " 2   ssc_board            215 non-null    object \n",
      " 3   hsc_percentage       215 non-null    float64\n",
      " 4   hsc_board            215 non-null    object \n",
      " 5   hsc_subject          215 non-null    object \n",
      " 6   degree_percentage    215 non-null    float64\n",
      " 7   undergrad_degree     215 non-null    object \n",
      " 8   work_experience      215 non-null    object \n",
      " 9   emp_test_percentage  215 non-null    float64\n",
      " 10  specialisation       215 non-null    object \n",
      " 11  mba_percent          215 non-null    float64\n",
      " 12  status               215 non-null    object \n",
      "dtypes: float64(5), object(8)\n",
      "memory usage: 22.0+ KB\n"
     ]
    }
   ],
   "source": [
    "df.info()"
   ]
  },
  {
   "cell_type": "code",
   "execution_count": 10,
   "id": "dea704bd",
   "metadata": {},
   "outputs": [
    {
     "data": {
      "text/plain": [
       "0"
      ]
     },
     "execution_count": 10,
     "metadata": {},
     "output_type": "execute_result"
    }
   ],
   "source": [
    "df.duplicated().sum()"
   ]
  },
  {
   "cell_type": "code",
   "execution_count": 14,
   "id": "de87af1b",
   "metadata": {},
   "outputs": [],
   "source": [
    "cat_cols =  [i for i in df.columns if df.dtypes[i] == 'O']\n",
    "num_cols =  [i for i in df.columns if df.dtypes[i] != 'O']"
   ]
  },
  {
   "cell_type": "code",
   "execution_count": 15,
   "id": "3a514234",
   "metadata": {},
   "outputs": [
    {
     "data": {
      "text/plain": [
       "['gender',\n",
       " 'ssc_board',\n",
       " 'hsc_board',\n",
       " 'hsc_subject',\n",
       " 'undergrad_degree',\n",
       " 'work_experience',\n",
       " 'specialisation',\n",
       " 'status']"
      ]
     },
     "execution_count": 15,
     "metadata": {},
     "output_type": "execute_result"
    }
   ],
   "source": [
    "cat_cols"
   ]
  },
  {
   "cell_type": "code",
   "execution_count": 16,
   "id": "6470f572",
   "metadata": {},
   "outputs": [
    {
     "data": {
      "text/plain": [
       "['ssc_percentage',\n",
       " 'hsc_percentage',\n",
       " 'degree_percentage',\n",
       " 'emp_test_percentage',\n",
       " 'mba_percent']"
      ]
     },
     "execution_count": 16,
     "metadata": {},
     "output_type": "execute_result"
    }
   ],
   "source": [
    "num_cols"
   ]
  },
  {
   "cell_type": "code",
   "execution_count": 17,
   "id": "f5272cec",
   "metadata": {},
   "outputs": [],
   "source": [
    "def univariate_cat(data,x):\n",
    "    missing=data[x].isnull().sum()\n",
    "    unique_cnt=data[x].nunique()\n",
    "    unique_cat=list(data[x].unique())\n",
    "    f1=pd.DataFrame(data[x].value_counts(dropna=False))\n",
    "    f1.rename(columns={x:\"Count\"},inplace=True)\n",
    "    f2=pd.DataFrame(data[x].value_counts(normalize=True))\n",
    "    f2.rename(columns={x:\"Percentage\"},inplace=True)\n",
    "    f2[\"Percentage\"]=(f2[\"Percentage\"]*100).round(2).astype(str)+\" %\"\n",
    "    ff=pd.concat([f1,f2],axis=1)\n",
    "    print(f\"Total missing values : {missing}\\n\")\n",
    "    print(f\"Total count of unique category : {unique_cnt}\\n\")\n",
    "    print(f\"Unique categories : \\n{unique_cat}\")\n",
    "    print(f\"Value count and % : \\n{ff}\")\n",
    "    plt.figure(figsize=(10,8))\n",
    "    sns.countplot(data=data,x=x)\n",
    "    plt.xticks(rotation=90)\n",
    "    plt.show()"
   ]
  },
  {
   "cell_type": "code",
   "execution_count": 19,
   "id": "cf355f8b",
   "metadata": {},
   "outputs": [
    {
     "name": "stdout",
     "output_type": "stream",
     "text": [
      "Total missing values : 0\n",
      "\n",
      "Total count of unique category : 2\n",
      "\n",
      "Unique categories : \n",
      "['M', 'F']\n",
      "Value count and % : \n",
      "   Count Percentage\n",
      "M    139    64.65 %\n",
      "F     76    35.35 %\n"
     ]
    },
    {
     "data": {
      "image/png": "[encoded data removed]",
      "text/plain": [
       "<Figure size 1000x800 with 1 Axes>"
      ]
     },
     "metadata": {},
     "output_type": "display_data"
    },
    {
     "name": "stdout",
     "output_type": "stream",
     "text": [
      "Total missing values : 0\n",
      "\n",
      "Total count of unique category : 2\n",
      "\n",
      "Unique categories : \n",
      "['Others', 'Central']\n",
      "Value count and % : \n",
      "         Count Percentage\n",
      "Central    116    53.95 %\n",
      "Others      99    46.05 %\n"
     ]
    },
    {
     "data": {
      "image/png": "[encoded data removed]",
      "text/plain": [
       "<Figure size 1000x800 with 1 Axes>"
      ]
     },
     "metadata": {},
     "output_type": "display_data"
    },
    {
     "name": "stdout",
     "output_type": "stream",
     "text": [
      "Total missing values : 0\n",
      "\n",
      "Total count of unique category : 2\n",
      "\n",
      "Unique categories : \n",
      "['Others', 'Central']\n",
      "Value count and % : \n",
      "         Count Percentage\n",
      "Others     131    60.93 %\n",
      "Central     84    39.07 %\n"
     ]
    },
    {
     "data": {
      "image/png": "[encoded data removed]",
      "text/plain": [
       "<Figure size 1000x800 with 1 Axes>"
      ]
     },
     "metadata": {},
     "output_type": "display_data"
    },
    {
     "name": "stdout",
     "output_type": "stream",
     "text": [
      "Total missing values : 0\n",
      "\n",
      "Total count of unique category : 3\n",
      "\n",
      "Unique categories : \n",
      "['Commerce', 'Science', 'Arts']\n",
      "Value count and % : \n",
      "          Count Percentage\n",
      "Commerce    113    52.56 %\n",
      "Science      91    42.33 %\n",
      "Arts         11     5.12 %\n"
     ]
    },
    {
     "data": {
      "image/png": "[encoded data removed]",
      "text/plain": [
       "<Figure size 1000x800 with 1 Axes>"
      ]
     },
     "metadata": {},
     "output_type": "display_data"
    },
    {
     "name": "stdout",
     "output_type": "stream",
     "text": [
      "Total missing values : 0\n",
      "\n",
      "Total count of unique category : 3\n",
      "\n",
      "Unique categories : \n",
      "['Sci&Tech', 'Comm&Mgmt', 'Others']\n",
      "Value count and % : \n",
      "           Count Percentage\n",
      "Comm&Mgmt    145    67.44 %\n",
      "Sci&Tech      59    27.44 %\n",
      "Others        11     5.12 %\n"
     ]
    },
    {
     "data": {
      "image/png": "[encoded data removed]",
      "text/plain": [
       "<Figure size 1000x800 with 1 Axes>"
      ]
     },
     "metadata": {},
     "output_type": "display_data"
    },
    {
     "name": "stdout",
     "output_type": "stream",
     "text": [
      "Total missing values : 0\n",
      "\n",
      "Total count of unique category : 2\n",
      "\n",
      "Unique categories : \n",
      "['No', 'Yes']\n",
      "Value count and % : \n",
      "     Count Percentage\n",
      "No     141    65.58 %\n",
      "Yes     74    34.42 %\n"
     ]
    },
    {
     "data": {
      "image/png": "[encoded data removed]",
      "text/plain": [
       "<Figure size 1000x800 with 1 Axes>"
      ]
     },
     "metadata": {},
     "output_type": "display_data"
    },
    {
     "name": "stdout",
     "output_type": "stream",
     "text": [
      "Total missing values : 0\n",
      "\n",
      "Total count of unique category : 2\n",
      "\n",
      "Unique categories : \n",
      "['Mkt&HR', 'Mkt&Fin']\n",
      "Value count and % : \n",
      "         Count Percentage\n",
      "Mkt&Fin    120    55.81 %\n",
      "Mkt&HR      95    44.19 %\n"
     ]
    },
    {
     "data": {
      "image/png": "[encoded data removed]",
      "text/plain": [
       "<Figure size 1000x800 with 1 Axes>"
      ]
     },
     "metadata": {},
     "output_type": "display_data"
    },
    {
     "name": "stdout",
     "output_type": "stream",
     "text": [
      "Total missing values : 0\n",
      "\n",
      "Total count of unique category : 2\n",
      "\n",
      "Unique categories : \n",
      "['Placed', 'Not Placed']\n",
      "Value count and % : \n",
      "            Count Percentage\n",
      "Placed        148    68.84 %\n",
      "Not Placed     67    31.16 %\n"
     ]
    },
    {
     "data": {
      "image/png": "[encoded data removed]",
      "text/plain": [
       "<Figure size 1000x800 with 1 Axes>"
      ]
     },
     "metadata": {},
     "output_type": "display_data"
    }
   ],
   "source": [
    "for i in cat_cols:\n",
    "    univariate_cat(df,i)"
   ]
  },
  {
   "cell_type": "code",
   "execution_count": 20,
   "id": "a05b63be",
   "metadata": {},
   "outputs": [
    {
     "data": {
      "image/png": "[encoded data removed]",
      "text/plain": [
       "<Figure size 640x480 with 1 Axes>"
      ]
     },
     "metadata": {},
     "output_type": "display_data"
    },
    {
     "data": {
      "image/png": "[encoded data removed]",
      "text/plain": [
       "<Figure size 640x480 with 1 Axes>"
      ]
     },
     "metadata": {},
     "output_type": "display_data"
    },
    {
     "data": {
      "image/png": "[encoded data removed]",
      "text/plain": [
       "<Figure size 640x480 with 1 Axes>"
      ]
     },
     "metadata": {},
     "output_type": "display_data"
    },
    {
     "data": {
      "image/png": "[encoded data removed]",
      "text/plain": [
       "<Figure size 640x480 with 1 Axes>"
      ]
     },
     "metadata": {},
     "output_type": "display_data"
    },
    {
     "data": {
      "image/png": "[encoded data removed]",
      "text/plain": [
       "<Figure size 640x480 with 1 Axes>"
      ]
     },
     "metadata": {},
     "output_type": "display_data"
    }
   ],
   "source": [
    "for i in num_cols:\n",
    "    sns.boxplot(x=df[i])\n",
    "    plt.show()"
   ]
  },
  {
   "cell_type": "code",
   "execution_count": 22,
   "id": "fb763513",
   "metadata": {},
   "outputs": [
    {
     "name": "stdout",
     "output_type": "stream",
     "text": [
      "<class 'pandas.core.frame.DataFrame'>\n",
      "<class 'pandas.core.series.Series'>\n"
     ]
    }
   ],
   "source": [
    "x = df.drop('status',axis=1)\n",
    "y = df['status']\n",
    "print(type(x))\n",
    "print(type(y))"
   ]
  },
  {
   "cell_type": "code",
   "execution_count": 23,
   "id": "b2e149a4",
   "metadata": {},
   "outputs": [],
   "source": [
    "from sklearn.model_selection import train_test_split \n",
    "x_train,x_test,y_train,y_test = train_test_split(x,y,test_size=0.25,random_state=42)"
   ]
  },
  {
   "cell_type": "code",
   "execution_count": 24,
   "id": "53fa4f2c",
   "metadata": {},
   "outputs": [
    {
     "name": "stdout",
     "output_type": "stream",
     "text": [
      "(161, 12)\n",
      "(161,)\n",
      "(54, 12)\n",
      "(54,)\n"
     ]
    }
   ],
   "source": [
    "print(x_train.shape)\n",
    "print(y_train.shape)\n",
    "print(x_test.shape)\n",
    "print(y_test.shape)"
   ]
  },
  {
   "cell_type": "code",
   "execution_count": 27,
   "id": "b03ff86d",
   "metadata": {},
   "outputs": [],
   "source": [
    "from sklearn.linear_model import LogisticRegression\n",
    "from sklearn.neighbors import KNeighborsClassifier\n",
    "from sklearn.tree import DecisionTreeClassifier\n",
    "from sklearn.ensemble import RandomForestClassifier\n",
    "from sklearn.metrics import confusion_matrix, classification_report\n",
    "\n",
    "def eval_model(ytest,ypred):\n",
    "    cm = confusion_matrix(ytest,ypred)\n",
    "    print(cm)\n",
    "    print(classification_report(ytest,ypred))\n",
    "\n",
    "from sklearn.pipeline import Pipeline\n",
    "from sklearn.compose import ColumnTransformer \n",
    "from sklearn.preprocessing import OneHotEncoder,RobustScaler"
   ]
  },
  {
   "cell_type": "code",
   "execution_count": 26,
   "id": "e5699941",
   "metadata": {},
   "outputs": [
    {
     "name": "stdout",
     "output_type": "stream",
     "text": [
      "['gender', 'ssc_board', 'hsc_board', 'hsc_subject', 'undergrad_degree', 'work_experience', 'specialisation', 'status']\n",
      "['ssc_percentage', 'hsc_percentage', 'degree_percentage', 'emp_test_percentage', 'mba_percent']\n"
     ]
    }
   ],
   "source": [
    "print(cat_cols)  #[0,2,4,5,7,8,10] (indices to be encoded)\n",
    "print(num_cols)  #[3] (index to be treated for outlier)"
   ]
  },
  {
   "cell_type": "markdown",
   "id": "453a0040",
   "metadata": {},
   "source": [
    "#### Logistic"
   ]
  },
  {
   "cell_type": "code",
   "execution_count": 30,
   "id": "357476a1",
   "metadata": {},
   "outputs": [
    {
     "name": "stdout",
     "output_type": "stream",
     "text": [
      "[[ 9  5]\n",
      " [ 3 37]]\n",
      "              precision    recall  f1-score   support\n",
      "\n",
      "  Not Placed       0.75      0.64      0.69        14\n",
      "      Placed       0.88      0.93      0.90        40\n",
      "\n",
      "    accuracy                           0.85        54\n",
      "   macro avg       0.82      0.78      0.80        54\n",
      "weighted avg       0.85      0.85      0.85        54\n",
      "\n"
     ]
    }
   ],
   "source": [
    "step1 = ColumnTransformer(transformers= \n",
    "                         [('enc_col',OneHotEncoder(drop='first',sparse=False),[0,2,4,5,7,8,10]),\n",
    "                         ('robust_scale',RobustScaler(),[3])],remainder='passthrough')\n",
    "step2 = LogisticRegression(max_iter=1000)\n",
    "pipe_lr = Pipeline([('step1',step1),('step2',step2)])\n",
    "\n",
    "pipe_lr.fit(x_train,y_train)\n",
    "ypred_lr = pipe_lr.predict(x_test)\n",
    "eval_model(y_test,ypred_lr)"
   ]
  },
  {
   "cell_type": "markdown",
   "id": "9950e7b5",
   "metadata": {},
   "source": [
    "#### KNN"
   ]
  },
  {
   "cell_type": "code",
   "execution_count": 32,
   "id": "69764e69",
   "metadata": {},
   "outputs": [
    {
     "name": "stdout",
     "output_type": "stream",
     "text": [
      "[[ 6  8]\n",
      " [ 4 36]]\n",
      "              precision    recall  f1-score   support\n",
      "\n",
      "  Not Placed       0.60      0.43      0.50        14\n",
      "      Placed       0.82      0.90      0.86        40\n",
      "\n",
      "    accuracy                           0.78        54\n",
      "   macro avg       0.71      0.66      0.68        54\n",
      "weighted avg       0.76      0.78      0.76        54\n",
      "\n"
     ]
    }
   ],
   "source": [
    "step2 = KNeighborsClassifier()\n",
    "pipe_knn = Pipeline([('step1',step1),('step2',step2)])\n",
    "\n",
    "pipe_knn.fit(x_train,y_train)\n",
    "ypred_knn = pipe_knn.predict(x_test)\n",
    "eval_model(y_test,ypred_knn)"
   ]
  },
  {
   "cell_type": "markdown",
   "id": "c48b3ef4",
   "metadata": {},
   "source": [
    "#### DT"
   ]
  },
  {
   "cell_type": "code",
   "execution_count": 33,
   "id": "579a1970",
   "metadata": {},
   "outputs": [
    {
     "name": "stdout",
     "output_type": "stream",
     "text": [
      "[[ 5  9]\n",
      " [ 1 39]]\n",
      "              precision    recall  f1-score   support\n",
      "\n",
      "  Not Placed       0.83      0.36      0.50        14\n",
      "      Placed       0.81      0.97      0.89        40\n",
      "\n",
      "    accuracy                           0.81        54\n",
      "   macro avg       0.82      0.67      0.69        54\n",
      "weighted avg       0.82      0.81      0.79        54\n",
      "\n"
     ]
    }
   ],
   "source": [
    "step2 = DecisionTreeClassifier()\n",
    "pipe_dt = Pipeline([('step1',step1),('step2',step2)])\n",
    "\n",
    "pipe_dt.fit(x_train,y_train)\n",
    "ypred_dt = pipe_dt.predict(x_test)\n",
    "eval_model(y_test,ypred_dt)"
   ]
  },
  {
   "cell_type": "markdown",
   "id": "fb2e1cdf",
   "metadata": {},
   "source": [
    "#### RF"
   ]
  },
  {
   "cell_type": "code",
   "execution_count": 36,
   "id": "5c7579e8",
   "metadata": {},
   "outputs": [
    {
     "name": "stdout",
     "output_type": "stream",
     "text": [
      "[[ 5  9]\n",
      " [ 2 38]]\n",
      "              precision    recall  f1-score   support\n",
      "\n",
      "  Not Placed       0.71      0.36      0.48        14\n",
      "      Placed       0.81      0.95      0.87        40\n",
      "\n",
      "    accuracy                           0.80        54\n",
      "   macro avg       0.76      0.65      0.67        54\n",
      "weighted avg       0.78      0.80      0.77        54\n",
      "\n"
     ]
    }
   ],
   "source": [
    "\n",
    "step2 = RandomForestClassifier()\n",
    "pipe_rf = Pipeline([('step1',step1),('step2',step2)])\n",
    "\n",
    "pipe_rf.fit(x_train,y_train)\n",
    "ypred_rf = pipe_rf.predict(x_test)\n",
    "eval_model(y_test,ypred_rf)"
   ]
  },
  {
   "cell_type": "code",
   "execution_count": 37,
   "id": "32000cbc",
   "metadata": {},
   "outputs": [],
   "source": [
    "import pickle "
   ]
  },
  {
   "cell_type": "code",
   "execution_count": 38,
   "id": "4eb86a2f",
   "metadata": {},
   "outputs": [],
   "source": [
    "pickle.dump(pipe_lr,open('lr1.pkl','wb'))\n",
    "pickle.dump(df,open('df1.pkl','wb'))"
   ]
  },
  {
   "cell_type": "code",
   "execution_count": null,
   "id": "33decceb",
   "metadata": {},
   "outputs": [],
   "source": []
  }
 ],
 "metadata": {
  "kernelspec": {
   "display_name": "Python 3 (ipykernel)",
   "language": "python",
   "name": "python3"
  },
  "language_info": {
   "codemirror_mode": {
    "name": "ipython",
    "version": 3
   },
   "file_extension": ".py",
   "mimetype": "text/x-python",
   "name": "python",
   "nbconvert_exporter": "python",
   "pygments_lexer": "ipython3",
   "version": "3.9.12"
  }
 },
 "nbformat": 4,
 "nbformat_minor": 5
}
